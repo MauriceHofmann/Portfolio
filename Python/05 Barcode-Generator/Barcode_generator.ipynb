{
 "cells": [
  {
   "attachments": {},
   "cell_type": "markdown",
   "metadata": {},
   "source": [
    "# Generate barcode with specific value"
   ]
  },
  {
   "cell_type": "code",
   "execution_count": 30,
   "metadata": {},
   "outputs": [
    {
     "name": "stdout",
     "output_type": "stream",
     "text": [
      "[LOG]   SUCESS  Barcode_N4PFU3 wurde erfolgreich erstellt\n"
     ]
    }
   ],
   "source": [
    "from pathlib import Path\n",
    "from barcode import Code128\n",
    "from barcode.writer import ImageWriter\n",
    "\n",
    "value = \"N4PFU3\"\n",
    "\n",
    "Path(\"NewBarcodes\").mkdir(parents=True, exist_ok=True)\n",
    "\n",
    "barcode = Code128(str(value), writer = ImageWriter())\n",
    "barcode.save(f\"NewBarcodes\\\\Barcode_{value}\")\n",
    "print(f\"[LOG]   SUCESS  Barcode_{value} wurde erfolgreich erstellt\")"
   ]
  },
  {
   "attachments": {},
   "cell_type": "markdown",
   "metadata": {},
   "source": [
    "# Generate barcode with start and stop value"
   ]
  },
  {
   "cell_type": "code",
   "execution_count": 2,
   "metadata": {},
   "outputs": [],
   "source": [
    "from pathlib import Path\n",
    "from barcode import Code128\n",
    "from barcode.writer import ImageWriter\n",
    "\n",
    "start_code = 311\n",
    "end_code = 338 + 1\n",
    "\n",
    "Path(\"Barcodes\").mkdir(parents=True, exist_ok=True)\n",
    "\n",
    "for i in range(end_code - start_code):\n",
    "    barcode = Code128(str(start_code), writer = ImageWriter())\n",
    "    barcode.save(f\"Barcodes\\\\Barcode_{start_code}\")\n",
    "\n",
    "    start_code = start_code + 1"
   ]
  },
  {
   "attachments": {},
   "cell_type": "markdown",
   "metadata": {},
   "source": [
    "# Generate Barcode from random integer values"
   ]
  },
  {
   "cell_type": "code",
   "execution_count": 6,
   "metadata": {},
   "outputs": [],
   "source": [
    "import random\n",
    "import numpy as np\n",
    "from pathlib import Path\n",
    "from barcode import Code128\n",
    "from barcode.writer import ImageWriter\n",
    "\n",
    "\n",
    "Path(\"Barcodes\").mkdir(parents=True, exist_ok=True)\n",
    "\n",
    "count_barcodes = 50\n",
    "all_barcode_values = set(np.arange(100, 200))\n",
    "\n",
    "for i in range(count_barcodes):\n",
    "    random_barcode_value = random.sample(sorted(all_barcode_values), 1)[0]\n",
    "    all_barcode_values.remove(random_barcode_value)\n",
    "\n",
    "    barcode = Code128(str(random_barcode_value), writer=ImageWriter())\n",
    "    barcode.save(f\"Barcodes\\\\Barcode_{random_barcode_value}\")"
   ]
  },
  {
   "attachments": {},
   "cell_type": "markdown",
   "metadata": {},
   "source": [
    "# Generate Barcode from random uppercase and digit values"
   ]
  },
  {
   "cell_type": "code",
   "execution_count": 3,
   "metadata": {},
   "outputs": [],
   "source": [
    "import random\n",
    "import string\n",
    "from pathlib import Path\n",
    "from barcode import Code128\n",
    "from barcode.writer import ImageWriter\n",
    "\n",
    "Path(\"Barcodes\").mkdir(parents=True, exist_ok=True)\n",
    "\n",
    "count_barcodes = 38\n",
    "barcode_chars = 6\n",
    "chars = string.ascii_uppercase + string.digits      # A-Z + 0-9\n",
    "\n",
    "\n",
    "for i in range(count_barcodes):\n",
    "\n",
    "    barcode_value = \"\"\n",
    "    barcode_value = barcode_value.join(random.choice(chars) for _ in range(barcode_chars))\n",
    "\n",
    "    barcode = Code128(str(barcode_value), writer=ImageWriter())\n",
    "    barcode.save(f\"Barcodes\\\\Barcode_{barcode_value}\")"
   ]
  }
 ],
 "metadata": {
  "kernelspec": {
   "display_name": "Python 3",
   "language": "python",
   "name": "python3"
  },
  "language_info": {
   "codemirror_mode": {
    "name": "ipython",
    "version": 3
   },
   "file_extension": ".py",
   "mimetype": "text/x-python",
   "name": "python",
   "nbconvert_exporter": "python",
   "pygments_lexer": "ipython3",
   "version": "3.10.5"
  },
  "orig_nbformat": 4
 },
 "nbformat": 4,
 "nbformat_minor": 2
}
