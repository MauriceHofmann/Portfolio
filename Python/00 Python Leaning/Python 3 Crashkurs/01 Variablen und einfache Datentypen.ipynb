{
 "cells": [
  {
   "attachments": {},
   "cell_type": "markdown",
   "metadata": {},
   "source": [
    "<h1>Variablen und einfache Datentypen</h1>\n",
    "<h2>Strings</h2>\n",
    "<h3>Gross- und Kleinschreibung mithilfe von Methoden aendern</h3>\n",
    "\n",
    "- title(): zeigt alle Woerter mit grossem Anfangsbuchstaben\n",
    "- upper(): String wird komplett in Grossbuchstaben umgewandelt\n",
    "- lower(): String wird komplett in Kleinbuchstaben umgewandelt"
   ]
  },
  {
   "cell_type": "code",
   "execution_count": 1,
   "metadata": {},
   "outputs": [
    {
     "name": "stdout",
     "output_type": "stream",
     "text": [
      "Ada Lovelace\n",
      "ADA LOVELACE\n",
      "ada lovelace\n"
     ]
    }
   ],
   "source": [
    "name = \"ada lovelace\"\n",
    "print(name.title())\n",
    "\n",
    "Name = \"Ada Lovelace\"\n",
    "print(name.upper())\n",
    "print(name.lower())"
   ]
  },
  {
   "attachments": {},
   "cell_type": "markdown",
   "metadata": {},
   "source": [
    "<h3>Variablen in Strings verwenden</h3>\n",
    "Um den Wert einer Variablen in einem String einzufügen, wird ein 'f' unmittelbar vor das öffnende Anführungszeichen gestellt (F-Strings --> F = Formatierung) <br>\n",
    "C# --> $"
   ]
  },
  {
   "cell_type": "code",
   "execution_count": null,
   "metadata": {},
   "outputs": [],
   "source": [
    "first_name = \"ada\"\n",
    "last_name = \"lovelace\"\n",
    "full_name = f\"{first_name} {last_name}\"\n",
    "\n",
    "print(full_name)\n",
    "print (full_name.title())"
   ]
  },
  {
   "attachments": {},
   "cell_type": "markdown",
   "metadata": {},
   "source": [
    "<h3>Weißraum hinzufügen und entfernen</h3>\n",
    "\n",
    "- Tab: \\t\n",
    "- Zeilenumbruch: \\n\n",
    "- rstrip(): Entfernt Weißraum von der rechten Seite\n",
    "- lstrip(): Entfernt Weißraum von der linken Seite\n",
    "- strip():  Entfernt Weißraum von beiden Seiten"
   ]
  },
  {
   "cell_type": "code",
   "execution_count": null,
   "metadata": {},
   "outputs": [],
   "source": [
    "language = \"   python     \"\n",
    "\n",
    "print(language.rstrip())\n",
    "print(language.lstrip())\n",
    "print(language.strip())"
   ]
  },
  {
   "attachments": {},
   "cell_type": "markdown",
   "metadata": {},
   "source": [
    "<h3>Übungsaufgaben</h3>\n",
    "a) Weisen Sie den Namen einer Person einer Variablen zu und geben Sie eine einfache Nachricht an diese Person\n",
    "\n",
    "b) Weisen Sie den Namen einer Person einer Variablen zu und geben Sie den Namen in Kleinbuchstaben, in Großbuchstaben sowie mit großen Anfangsbuchstaben aus\n",
    "\n",
    "c) Geben Sie ein bekanntes Zitat und den Namen von dessen Urheber aus\n",
    "\n",
    "d) Weisen Sie den Nmen einer Person einschließlich einiger Weißraumzeichen am Anfang und Ende einer Variablen zu. Geben Sie den Namen einmal einschließlich Weißraum aus und dann dreiml mithilfe der gelernten Funktionen um ihn zu entfernen"
   ]
  },
  {
   "cell_type": "code",
   "execution_count": null,
   "metadata": {},
   "outputs": [],
   "source": [
    "# Aufgabe a)\n",
    "name = \"Helga Peters\"\n",
    "print(f\"Hallo {name}, ich wünsche dir alles Liebe und Gute zu deinem Geburtstag\")\n",
    "\n",
    "\n",
    "# Aufgabe b)\n",
    "print(name.lower())\n",
    "print(name.upper())\n",
    "print(name.title())\n",
    "\n",
    "\n",
    "# Aufgabe c)\n",
    "zitat = \"Phantasie ist wichtiger als Wissen, denn Wissen ist begrenzt\"\n",
    "autor = \"albert einstein\"\n",
    "\n",
    "print(f'{autor} sagte einst: \"{zitat}\"')\n",
    "\n",
    "\n",
    "# Aufgabe d)\n",
    "name = \"\\t\\t    Helga Peters \\n\\t    \"\n",
    "\n",
    "print(name)\n",
    "print(name.lstrip())\n",
    "print(name.rstrip())\n",
    "print(name.strip())\n"
   ]
  },
  {
   "attachments": {},
   "cell_type": "markdown",
   "metadata": {},
   "source": [
    "<h2>Zahlen</h2>\n",
    "<h3>Integer</h3>\n",
    "In Python können Sie Integer addieren (+), subtrahieren (-), multiplizieren (*) und dividieren (/). Zur Darstellung von Exponenten verwendet Python zwei Sternchen (*)"
   ]
  },
  {
   "cell_type": "code",
   "execution_count": null,
   "metadata": {},
   "outputs": [],
   "source": [
    "print(2 + 3)\n",
    "print(3 - 2)\n",
    "print(2 * 3)\n",
    "print(3 / 2)\n",
    "\n",
    "print(3 ** 2)\n",
    "print(3 ** 3)"
   ]
  },
  {
   "attachments": {},
   "cell_type": "markdown",
   "metadata": {},
   "source": [
    "<h3>Fließkommazahlen</h3>\n",
    "Zahlen mit einem Dezimalpunkt werden als Fließkommazahlen bezeichnet. Mit diesen können ebenfalls Rechenoperationen durchgeführt werden."
   ]
  },
  {
   "cell_type": "code",
   "execution_count": null,
   "metadata": {},
   "outputs": [],
   "source": [
    "print(0.1 + 0.1)\n",
    "print(1.2 - 0.8)\n",
    "print(2.0 * 0.1)\n",
    "print(5.0 / 2.5)"
   ]
  },
  {
   "attachments": {},
   "cell_type": "markdown",
   "metadata": {},
   "source": [
    "<h3>Integer und Fließkommazahlen</h3>\n",
    "Wenn Sie zwei Zahlen dividieren, erhalten Sie immer eine Fließkommazahl, auch wenn es sich bei den beiden Zahlen um Integer handelt und das Ergebnis eine ganze Zahl ist."
   ]
  },
  {
   "cell_type": "code",
   "execution_count": 5,
   "metadata": {},
   "outputs": [
    {
     "name": "stdout",
     "output_type": "stream",
     "text": [
      "2.0\n",
      "3.0\n",
      "9.0\n"
     ]
    }
   ],
   "source": [
    "print(4 / 2)\n",
    "print(1 + 2.0)\n",
    "print(3.0 ** 2)"
   ]
  },
  {
   "attachments": {},
   "cell_type": "markdown",
   "metadata": {},
   "source": [
    "<h3>Unterstriche in Zahlen</h3>\n",
    "Zur besseren Lesbarkeit von sher großen Zahlen können Unterstriche (_) als Tausendertrennzeichen verwendet werden. Beim speichen ignoriert Python die Unterstriche."
   ]
  },
  {
   "cell_type": "code",
   "execution_count": 6,
   "metadata": {},
   "outputs": [
    {
     "name": "stdout",
     "output_type": "stream",
     "text": [
      "14000000000\n"
     ]
    }
   ],
   "source": [
    "alter_des_universums = 14_000_000_000\n",
    "print(alter_des_universums)"
   ]
  },
  {
   "attachments": {},
   "cell_type": "markdown",
   "metadata": {},
   "source": [
    "<h3>Mehrfachzuweisung</h3>\n",
    "Sie können innerhalb einer Zeile Werte zu mehr als einer Variablen zuweisen. Das macht die Programme kürzer und leichter lesbar. Hierbei spielt der Datentyp keine Rolle."
   ]
  },
  {
   "cell_type": "code",
   "execution_count": null,
   "metadata": {},
   "outputs": [],
   "source": [
    "x, y, z = 0, 0.3, \"Test\""
   ]
  },
  {
   "attachments": {},
   "cell_type": "markdown",
   "metadata": {},
   "source": [
    "<h3>Konstanten</h3>\n",
    "Eine Konstante ist eine Variable, deren Wert während der gesamten Lebensdauer des Programms unverändert bleibt. Python hat zwar keinen vordefinierten Typ für Konstanten, allerdings werden sie durch Großbuchstaben gekennzeichnet, um anzuzeigen, dass eine Variable als Konstante behandelt und nie geändert werden soll."
   ]
  },
  {
   "cell_type": "code",
   "execution_count": null,
   "metadata": {},
   "outputs": [],
   "source": [
    "MAX_CONNECTIONS = 5000"
   ]
  },
  {
   "attachments": {},
   "cell_type": "markdown",
   "metadata": {},
   "source": [
    "<h3>Übungsaufgaben</h3>\n",
    "a) Schreiben Sie eine Addition, eine Subtraktion, eine Multiplikation und eine Division, die jeweils 8 ergeben. Schließen Sie die Operationen in print-Anwesungen ein, damit Sie das Ergebnis sehen können.\n",
    "\n",
    "b) Weisen Sie Ihre Lieblingszahl einer Variablen zu. Stellen Sie mithilfe dieser Variablen eine Nachricht zusammen, in der diese Lieblingszahl angegeben wird, und geben Sie diese Nachricht aus."
   ]
  },
  {
   "cell_type": "code",
   "execution_count": 7,
   "metadata": {},
   "outputs": [
    {
     "name": "stdout",
     "output_type": "stream",
     "text": [
      "8\n",
      "8\n",
      "8\n",
      "8.0\n"
     ]
    }
   ],
   "source": [
    "# Aufgabe a)\n",
    "print(2 + 6)\n",
    "print(11 - 3)\n",
    "print(2 * 4)\n",
    "print(64 / 8)"
   ]
  },
  {
   "attachments": {},
   "cell_type": "markdown",
   "metadata": {},
   "source": [
    "<h3>Kommentare</h3>\n",
    "Wenn Ihre Programme länger und komplizierter werden, sollten Sie auch Hinweise hinzufügen, die Ihre Vorgehensweise zur Lösung des Problems beschreiben. In Python dient der Hashtag (#) zur Kennzeichnung eines Kommentars. Alles, was in einer Zeile auf dieses Zeichen folgt, wird vom Python-Interpreter ignoriert."
   ]
  },
  {
   "cell_type": "code",
   "execution_count": 8,
   "metadata": {},
   "outputs": [
    {
     "name": "stdout",
     "output_type": "stream",
     "text": [
      "Hallo Leute!\n"
     ]
    }
   ],
   "source": [
    "# Begrüßt alle mit 'Hallo'\n",
    "print(\"Hallo Leute!\")"
   ]
  },
  {
   "cell_type": "code",
   "execution_count": 9,
   "metadata": {},
   "outputs": [
    {
     "name": "stdout",
     "output_type": "stream",
     "text": [
      "The Zen of Python, by Tim Peters\n",
      "\n",
      "Beautiful is better than ugly.\n",
      "Explicit is better than implicit.\n",
      "Simple is better than complex.\n",
      "Complex is better than complicated.\n",
      "Flat is better than nested.\n",
      "Sparse is better than dense.\n",
      "Readability counts.\n",
      "Special cases aren't special enough to break the rules.\n",
      "Although practicality beats purity.\n",
      "Errors should never pass silently.\n",
      "Unless explicitly silenced.\n",
      "In the face of ambiguity, refuse the temptation to guess.\n",
      "There should be one-- and preferably only one --obvious way to do it.\n",
      "Although that way may not be obvious at first unless you're Dutch.\n",
      "Now is better than never.\n",
      "Although never is often better than *right* now.\n",
      "If the implementation is hard to explain, it's a bad idea.\n",
      "If the implementation is easy to explain, it may be a good idea.\n",
      "Namespaces are one honking great idea -- let's do more of those!\n"
     ]
    }
   ],
   "source": [
    "# 'The Zen of Python'\n",
    "import this"
   ]
  }
 ],
 "metadata": {
  "kernelspec": {
   "display_name": "Python 3",
   "language": "python",
   "name": "python3"
  },
  "language_info": {
   "codemirror_mode": {
    "name": "ipython",
    "version": 3
   },
   "file_extension": ".py",
   "mimetype": "text/x-python",
   "name": "python",
   "nbconvert_exporter": "python",
   "pygments_lexer": "ipython3",
   "version": "3.10.5"
  },
  "orig_nbformat": 4,
  "vscode": {
   "interpreter": {
    "hash": "ac84cb5359a727a9b47307c600b950bddfde70ddc12d348791ec19c547c384cd"
   }
  }
 },
 "nbformat": 4,
 "nbformat_minor": 2
}
