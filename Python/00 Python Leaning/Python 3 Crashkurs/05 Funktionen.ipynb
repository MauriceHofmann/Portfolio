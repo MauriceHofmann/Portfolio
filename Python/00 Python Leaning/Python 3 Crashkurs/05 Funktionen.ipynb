{
 "cells": [
  {
   "attachments": {},
   "cell_type": "markdown",
   "metadata": {},
   "source": [
    "<h1>Funktionen</h1>\n",
    "<h3>Erstellen und Aufrufen einer Funktion</h3>\n",
    "Eine Funktion ist ein logisch zusammengehöriger Codeblock, der ausschließlich ausgeführt wird, wenn er aufgerufen wird. Dabei können Daten in eine Funktion übergeben werden, welche diese verarbeitet. <br>\n",
    "In Python wird eine Funktion definiert mit dem Schlüsselwort <b>def</b>. <br>\n",
    "Um eine Funktion aufzuruen, wird der Name der Funktion und dem dazugehörigen Klammerpaar benötigt."
   ]
  },
  {
   "cell_type": "code",
   "execution_count": 1,
   "metadata": {},
   "outputs": [
    {
     "name": "stdout",
     "output_type": "stream",
     "text": [
      "This code is in my Function\n"
     ]
    }
   ],
   "source": [
    "def meine_Funktion():\n",
    "    print(\"This code is in my Function\")\n",
    "\n",
    "meine_Funktion()"
   ]
  },
  {
   "attachments": {},
   "cell_type": "markdown",
   "metadata": {},
   "source": [
    "<h3>Argumente einer Funktion mitgeben</h3>\n",
    "Informationen können als Argumente einer Funktion übergeben werden. Diese werden innerhalb des Klammerpaares überreichtk, wobei beliebig viele Argumente möglich sind."
   ]
  },
  {
   "cell_type": "code",
   "execution_count": 6,
   "metadata": {},
   "outputs": [
    {
     "name": "stdout",
     "output_type": "stream",
     "text": [
      "Hello Stefan\n",
      "Hello Rüdiger\n"
     ]
    }
   ],
   "source": [
    "def say_hello(name):\n",
    "    print(f\"Hello {name}\")\n",
    "\n",
    "say_hello(\"Stefan\")\n",
    "say_hello(name = \"Rüdiger\")"
   ]
  }
 ],
 "metadata": {
  "kernelspec": {
   "display_name": "Python 3",
   "language": "python",
   "name": "python3"
  },
  "language_info": {
   "codemirror_mode": {
    "name": "ipython",
    "version": 3
   },
   "file_extension": ".py",
   "mimetype": "text/x-python",
   "name": "python",
   "nbconvert_exporter": "python",
   "pygments_lexer": "ipython3",
   "version": "3.10.5"
  },
  "orig_nbformat": 4,
  "vscode": {
   "interpreter": {
    "hash": "ac84cb5359a727a9b47307c600b950bddfde70ddc12d348791ec19c547c384cd"
   }
  }
 },
 "nbformat": 4,
 "nbformat_minor": 2
}
