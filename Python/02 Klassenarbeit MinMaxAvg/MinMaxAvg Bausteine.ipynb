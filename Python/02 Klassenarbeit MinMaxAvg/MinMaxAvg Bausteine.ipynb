{
 "cells": [
  {
   "cell_type": "code",
   "execution_count": 117,
   "metadata": {},
   "outputs": [],
   "source": [
    "# Imports\n",
    "import pandas as pd\n",
    "import sys"
   ]
  },
  {
   "cell_type": "code",
   "execution_count": 118,
   "metadata": {},
   "outputs": [
    {
     "data": {
      "text/html": [
       "<div>\n",
       "<style scoped>\n",
       "    .dataframe tbody tr th:only-of-type {\n",
       "        vertical-align: middle;\n",
       "    }\n",
       "\n",
       "    .dataframe tbody tr th {\n",
       "        vertical-align: top;\n",
       "    }\n",
       "\n",
       "    .dataframe thead th {\n",
       "        text-align: right;\n",
       "    }\n",
       "</style>\n",
       "<table border=\"1\" class=\"dataframe\">\n",
       "  <thead>\n",
       "    <tr style=\"text-align: right;\">\n",
       "      <th></th>\n",
       "      <th>Umsatz</th>\n",
       "      <th>Monat</th>\n",
       "    </tr>\n",
       "  </thead>\n",
       "  <tbody>\n",
       "    <tr>\n",
       "      <th>0</th>\n",
       "      <td>104564.62</td>\n",
       "      <td>August</td>\n",
       "    </tr>\n",
       "    <tr>\n",
       "      <th>1</th>\n",
       "      <td>99574.76</td>\n",
       "      <td>Mai</td>\n",
       "    </tr>\n",
       "    <tr>\n",
       "      <th>2</th>\n",
       "      <td>287654.65</td>\n",
       "      <td>Januar</td>\n",
       "    </tr>\n",
       "    <tr>\n",
       "      <th>3</th>\n",
       "      <td>199345.10</td>\n",
       "      <td>Dezember</td>\n",
       "    </tr>\n",
       "    <tr>\n",
       "      <th>4</th>\n",
       "      <td>155856.23</td>\n",
       "      <td>November</td>\n",
       "    </tr>\n",
       "    <tr>\n",
       "      <th>5</th>\n",
       "      <td>45001.56</td>\n",
       "      <td>Februar</td>\n",
       "    </tr>\n",
       "    <tr>\n",
       "      <th>6</th>\n",
       "      <td>91023.44</td>\n",
       "      <td>Oktober</td>\n",
       "    </tr>\n",
       "    <tr>\n",
       "      <th>7</th>\n",
       "      <td>56524.32</td>\n",
       "      <td>März</td>\n",
       "    </tr>\n",
       "    <tr>\n",
       "      <th>8</th>\n",
       "      <td>67832.34</td>\n",
       "      <td>Juni</td>\n",
       "    </tr>\n",
       "    <tr>\n",
       "      <th>9</th>\n",
       "      <td>55243.56</td>\n",
       "      <td>April</td>\n",
       "    </tr>\n",
       "    <tr>\n",
       "      <th>10</th>\n",
       "      <td>95345.00</td>\n",
       "      <td>July</td>\n",
       "    </tr>\n",
       "    <tr>\n",
       "      <th>11</th>\n",
       "      <td>84123.43</td>\n",
       "      <td>September</td>\n",
       "    </tr>\n",
       "  </tbody>\n",
       "</table>\n",
       "</div>"
      ],
      "text/plain": [
       "       Umsatz      Monat\n",
       "0   104564.62     August\n",
       "1    99574.76        Mai\n",
       "2   287654.65     Januar\n",
       "3   199345.10   Dezember\n",
       "4   155856.23   November\n",
       "5    45001.56    Februar\n",
       "6    91023.44    Oktober\n",
       "7    56524.32       März\n",
       "8    67832.34       Juni\n",
       "9    55243.56      April\n",
       "10   95345.00       July\n",
       "11   84123.43  September"
      ]
     },
     "execution_count": 118,
     "metadata": {},
     "output_type": "execute_result"
    }
   ],
   "source": [
    "# Einlesen der CSV-Datei\n",
    "umsatz_2020_dataframe = pd.read_csv(\"Ums2020Berlin.csv\", sep = \"#\")\n",
    "umsatz_2020_dataframe"
   ]
  },
  {
   "cell_type": "code",
   "execution_count": 119,
   "metadata": {},
   "outputs": [
    {
     "name": "stdout",
     "output_type": "stream",
     "text": [
      "Der höchste Umsatz beträgt 287654.65\n",
      "Der geringste Umsatz beträgt 45001.56\n",
      "Der durchschnittliche Umsatz beträgt 111840.75083333331\n"
     ]
    }
   ],
   "source": [
    "# Variablen initialisieren\n",
    "max_umsatz = sys.float_info.min\n",
    "min_umsatz = sys.float_info.max\n",
    "avg_umsatz = 0.0\n",
    "\n",
    "# Maximaler Umsatz ermitteln\n",
    "for umsatz in umsatz_2020_dataframe[\"Umsatz\"]:\n",
    "    if umsatz > max_umsatz:\n",
    "        max_umsatz = umsatz\n",
    "\n",
    "# Minimaler Umsatz ermitteln\n",
    "for umsatz in umsatz_2020_dataframe[\"Umsatz\"]:\n",
    "    if umsatz < min_umsatz:\n",
    "        min_umsatz = umsatz\n",
    "\n",
    "# Durschnittlicher Umsatz ermitteln\n",
    "count = 0\n",
    "sum_umsatz = 0.0\n",
    "\n",
    "for umsatz in umsatz_2020_dataframe[\"Umsatz\"]:\n",
    "    sum_umsatz += umsatz\n",
    "    count += 1\n",
    "\n",
    "avg_umsatz = sum_umsatz / count\n",
    "\n",
    "# Ausgabe der Umsätze\n",
    "print(f\"Der höchste Umsatz beträgt {max_umsatz}\")\n",
    "print(f\"Der geringste Umsatz beträgt {min_umsatz}\")\n",
    "print(f\"Der durchschnittliche Umsatz beträgt {avg_umsatz}\")\n"
   ]
  },
  {
   "cell_type": "code",
   "execution_count": 120,
   "metadata": {},
   "outputs": [
    {
     "name": "stdout",
     "output_type": "stream",
     "text": [
      "287654.65\n",
      "45001.56\n",
      "111840.75083333334\n"
     ]
    }
   ],
   "source": [
    "# Maximaler Umsatz ermitteln\n",
    "max_umsatz = umsatz_2020_dataframe[\"Umsatz\"].max() \n",
    "\n",
    "# Minimaler Umsatz ermitteln\n",
    "min_umsatz = umsatz_2020_dataframe[\"Umsatz\"].min()\n",
    "\n",
    "# Durchschnittlicher Umsatz ermitteln\n",
    "avg_umsatz = umsatz_2020_dataframe[\"Umsatz\"].mean()\n",
    "\n",
    "# Ausgabe der Umsätze\n",
    "print(max_umsatz)\n",
    "print(min_umsatz)\n",
    "print(avg_umsatz)\n",
    "\n"
   ]
  }
 ],
 "metadata": {
  "kernelspec": {
   "display_name": "Python 3",
   "language": "python",
   "name": "python3"
  },
  "language_info": {
   "codemirror_mode": {
    "name": "ipython",
    "version": 3
   },
   "file_extension": ".py",
   "mimetype": "text/x-python",
   "name": "python",
   "nbconvert_exporter": "python",
   "pygments_lexer": "ipython3",
   "version": "3.10.5"
  },
  "orig_nbformat": 4,
  "vscode": {
   "interpreter": {
    "hash": "ac84cb5359a727a9b47307c600b950bddfde70ddc12d348791ec19c547c384cd"
   }
  }
 },
 "nbformat": 4,
 "nbformat_minor": 2
}
