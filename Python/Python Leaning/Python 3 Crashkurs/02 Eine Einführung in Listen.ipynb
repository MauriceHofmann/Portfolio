{
 "cells": [
  {
   "attachments": {},
   "cell_type": "markdown",
   "metadata": {},
   "source": [
    "<h1>Eine Einführung in Listen</h1>\n",
    "<h3>Was sind Listen?</h3>\n",
    "Eine Liste ist eine geordnete Sammlung von Elementen. In Python werden Listen durch eckige Klammern [] dargestellt, wobei die einzelnen Elemente in der Liste durch Kommata getrennt sind. Bei der Ausgabe der Liste, werden die Inhalte einschließlich der eckigen Klammer angezeigt!"
   ]
  },
  {
   "cell_type": "code",
   "execution_count": 1,
   "metadata": {},
   "outputs": [
    {
     "name": "stdout",
     "output_type": "stream",
     "text": [
      "['BMX', 'Montainbike', 'Rennrad', 'Citybike']\n"
     ]
    }
   ],
   "source": [
    "fahrraeder = [\"BMX\", \"Montainbike\", \"Rennrad\", \"Citybike\"]\n",
    "print(fahrraeder)"
   ]
  },
  {
   "attachments": {},
   "cell_type": "markdown",
   "metadata": {},
   "source": [
    "<h3>Elemente in einer Liste ansprechen</h3>\n",
    "Da es sich bei Listen um geordnete Sammlungen handelt, können Sie auf ein gewünschtes Element zugreifen, indem Sie dessen Position (Index) angeben.Wenn nach einem einzelnen Element der Liste gefragt wird, wird dieses Element ohne eckige Klammern ausgegeben.\n",
    "Zusätzlich können die Stringmethoden aus Kapitel 2 angewendet werden."
   ]
  },
  {
   "cell_type": "code",
   "execution_count": 3,
   "metadata": {},
   "outputs": [
    {
     "name": "stdout",
     "output_type": "stream",
     "text": [
      "BMX\n",
      "Montainbike\n"
     ]
    }
   ],
   "source": [
    "fahrraeder = [\"BMX\", \"montainbike\", \"Rennrad\", \"Citybike\"]\n",
    "print(fahrraeder[0])\n",
    "\n",
    "print(fahrraeder[1].title())"
   ]
  },
  {
   "attachments": {},
   "cell_type": "markdown",
   "metadata": {},
   "source": [
    "<h3>Indizes beginnen bei 0, nicht bei 1</h3>\n",
    "Für Python befindet sich das erste Element einer Liste an der Position 0, nicht 1. Das zweite Element hat in der Liste den Index 1. Sie können jedes Element in einer Liste abrufen, indem Sie ganz einfach zählen, wo es sich befindet, und dann 1 von diesem Wert abziehen. Um beispielsweise auf das vierte Element einer Liste zuzugreifen, müssen Sie das Element am Index 3 abrufen.\n",
    "\n",
    "In Python gibt es eine besondere Schreibweise um auf das letzte Element einer Liste zuzugreifen. Wenn Sie das Element am Index -1 abrufen, wird das letzte Element zurückgegeben. Dies funktioniert auch mit anderen negativen Indexwerten. So steht der Index -2 für das zweitletzte Element der Liste."
   ]
  },
  {
   "cell_type": "code",
   "execution_count": 6,
   "metadata": {},
   "outputs": [
    {
     "name": "stdout",
     "output_type": "stream",
     "text": [
      "Montainbike\n",
      "Citybike\n",
      "Citybike\n",
      "Montainbike\n"
     ]
    }
   ],
   "source": [
    "fahrraeder = [\"BMX\", \"Montainbike\", \"Rennrad\", \"Citybike\"]\n",
    "print(fahrraeder[1])\n",
    "print(fahrraeder[3])\n",
    "\n",
    "print(fahrraeder[-1])\n",
    "print(fahrraeder[-3])"
   ]
  },
  {
   "attachments": {},
   "cell_type": "markdown",
   "metadata": {},
   "source": [
    "<h3>Einzelne Werte aus einer Liste verwenden</h3>\n",
    "Sie können einzelne Werte einer Liste auch wie eine normale Variable nutzen. enn Sie String mit F-Strings zu einer Nachricht kombinieren, können Sie darin auch Listenwerte aufnehmen."
   ]
  },
  {
   "cell_type": "code",
   "execution_count": 8,
   "metadata": {},
   "outputs": [
    {
     "name": "stdout",
     "output_type": "stream",
     "text": [
      "Mein erstes Fahrrad war ein Montainbike\n"
     ]
    }
   ],
   "source": [
    "fahrraeder = [\"BMX\", \"Montainbike\", \"Rennrad\", \"Citybike\"]\n",
    "ausgabe = f\"Mein erstes Fahrrad war ein {fahrraeder[1]}\"\n",
    "\n",
    "print(ausgabe)"
   ]
  },
  {
   "attachments": {},
   "cell_type": "markdown",
   "metadata": {},
   "source": [
    "<h3>Übungsaufgaben</h3>\n",
    "a) Speichern Sie die Namen einiger Freunde in der Liste namen. Geben Sie die Namen aller Personen aus, indem Sie <ins>nacheinander</ins> jedes Element abrufen.\n",
    "\n",
    "b) Verwenden Sie wiederum die Liste aus Aufgabe a), aber geben Sie nicht einfach die Namen aus, sondern an die einzelnen Personen gerichtete Nachrichten. Alle diese Nachrichten sollen den gleichen Text aufweisen, aber jeweils eine andere Person ansprechen.\n",
    "\n",
    "c) Erstellen Sie eine Liste mit mehreren Beispielen für ihr bevorzugtes Verkehrsmittel. Geben Sie dann noch mehrere Aussagen über die Elemente in dieser Liste aus."
   ]
  },
  {
   "cell_type": "code",
   "execution_count": 1,
   "metadata": {},
   "outputs": [
    {
     "name": "stdout",
     "output_type": "stream",
     "text": [
      "Hesham\n",
      "Henrik\n",
      "Luca\n",
      "Fabio\n",
      "Merve\n",
      "Hesham ist ein guter Programmierer\n",
      "Henrik ist ein guter Freund\n",
      "Hoffentlich arbeite ich eines Tages bei Mercedes-Benz\n",
      "Zurzeit fahre ich BMW, würde aber gerne einen Mercedes-Benz fahren\n"
     ]
    }
   ],
   "source": [
    "# Aufgabe a)\n",
    "namen = [\"Hesham\", \"Henrik\", \"Luca\", \"Fabio\", \"Merve\"]\n",
    "print(namen[0])\n",
    "print(namen[1])\n",
    "print(namen[2])\n",
    "print(namen[3])\n",
    "print(namen[4])\n",
    "\n",
    "\n",
    "# Aufgabe b)\n",
    "print(f\"{namen[0]} ist ein guter Programmierer\")\n",
    "print(f\"{namen[1]} ist ein guter Freund\")\n",
    "\n",
    "\n",
    "# Aufgabe c)\n",
    "autos = [\"Mercedes-Benz\", \"Audi\", \"BMW\", \"VW\", \"Porsche\"]\n",
    "print(f\"Hoffentlich arbeite ich eines Tages bei {autos[0]}\")\n",
    "print(f\"Zurzeit fahre ich {autos[2]}, würde aber gerne einen {autos[0]} fahren\")"
   ]
  },
  {
   "attachments": {},
   "cell_type": "markdown",
   "metadata": {},
   "source": [
    "<h3>Elemente ändern, hinzufügen und entfernen</h3>\n",
    "Listen sind dynamischer Natur, das bedeutet Sie können eine Liste aufstellen und im Programmverlauf Elemente hinzufügen, abändern oder entfernen.\n",
    "\n",
    "<h4>Elemente in einer Liste ändern</h4>\n",
    "Um ein Element zu ändern, geben Sie den Namen der Liste gefolgt von dem Index des Elements an und stellen dann den neuen Wert bereit."
   ]
  },
  {
   "cell_type": "code",
   "execution_count": 2,
   "metadata": {},
   "outputs": [
    {
     "name": "stdout",
     "output_type": "stream",
     "text": [
      "['Honda', 'Yamaha', 'Suzuki']\n",
      "['Ducati', 'Yamaha', 'Suzuki']\n"
     ]
    }
   ],
   "source": [
    "motorraeder = [\"Honda\", \"Yamaha\", \"Suzuki\"]\n",
    "print(motorraeder)\n",
    "\n",
    "motorraeder[0] = \"Ducati\"\n",
    "print(motorraeder)"
   ]
  },
  {
   "attachments": {},
   "cell_type": "markdown",
   "metadata": {},
   "source": [
    "<h4>Elemente zu einer Liste hinzufügen</h4>\n",
    "<h5>Elemente am Ende einer Liste anhängen </h5>\n",
    "Die einfachste Möglichkeit, neue Elemente zu einer Liste hinzuzufügen, besteht darin, sie am Ende anzuhängen. Die Methode <b>append()</b> fügt das übergebene Element am Ende der Liste hinzu, ohne dass dies Auswirkungen auf die anderen Elemente hat."
   ]
  },
  {
   "cell_type": "code",
   "execution_count": 3,
   "metadata": {},
   "outputs": [
    {
     "name": "stdout",
     "output_type": "stream",
     "text": [
      "['Honda', 'Yamaha', 'Suzuki']\n",
      "['Honda', 'Yamaha', 'Suzuki', 'Ducati']\n"
     ]
    }
   ],
   "source": [
    "motorraeder = [\"Honda\", \"Yamaha\", \"Suzuki\"]\n",
    "print(motorraeder)\n",
    "\n",
    "motorraeder.append(\"Ducati\")\n",
    "print(motorraeder)"
   ]
  },
  {
   "attachments": {},
   "cell_type": "markdown",
   "metadata": {},
   "source": [
    "<h5>Elemente in eine Liste einfügen</h5>\n",
    "Mit der Methode <b>insert()</b> können Sie ein neues Element an einer beliebigen Stelle der Liste einfügen. Dafür muss der gewünschte Index und der Wert angegeben werden."
   ]
  },
  {
   "cell_type": "code",
   "execution_count": 4,
   "metadata": {},
   "outputs": [
    {
     "name": "stdout",
     "output_type": "stream",
     "text": [
      "['Ducati', 'Honda', 'Yamaha', 'Suzuki']\n"
     ]
    }
   ],
   "source": [
    "motorraeder = [\"Honda\", \"Yamaha\", \"Suzuki\"]\n",
    "\n",
    "motorraeder.insert(0, \"Ducati\")\n",
    "print(motorraeder)"
   ]
  },
  {
   "attachments": {},
   "cell_type": "markdown",
   "metadata": {},
   "source": [
    "<h5>Elemente aus einer Liste entfernen</h5>\n",
    "Wenn Sie die Position des Elements kennen, das Sie entfernen möchten, können Sie die Anweisung <b>del</b> verwenden. Es ist hierbei allerdings nicht mehr möglich auf den entfernten Wert zuzugreifen "
   ]
  },
  {
   "cell_type": "code",
   "execution_count": 6,
   "metadata": {},
   "outputs": [
    {
     "name": "stdout",
     "output_type": "stream",
     "text": [
      "['Honda', 'Suzuki']\n"
     ]
    }
   ],
   "source": [
    "motorraeder = [\"Honda\", \"Yamaha\", \"Suzuki\"]\n",
    "\n",
    "del motorraeder[1]\n",
    "print(motorraeder)"
   ]
  },
  {
   "attachments": {},
   "cell_type": "markdown",
   "metadata": {},
   "source": [
    "Manchmal möchten Sie den Wert eines Elements noch verwenden, nachdem Sie es aus der Liste entfernt haben. Die Methode <b>pop()</b> entfertn zwar den letzten Eintrag aus einer Liste, lässt es aber zu, weiterhin damit zu arbeiten. <br>\n",
    "Mit der Methode <b>pop()</b> können Sie auch ein Element an jeder Stelle in der Liste entfernen, indem Sie die in den Klammern den Index dieses Elements angeben. <b>Denken Sie bei der Verwendung von pop() daran, dass das Element, mit dem Sie arbeiten, nicht mehr in der Liste gespeichert ist.</b> <br><br>\n",
    "Wenn Sie ein Element aus eine Liste entfernen möchten und es danach nicht mehr verwenden wollen, nehmen sie<b>del</b>; wollen Sie jedoch das entfernte Element weiterhin nutzen, entscheiden Sie sich für <b>pop()</b>."
   ]
  },
  {
   "cell_type": "code",
   "execution_count": 9,
   "metadata": {},
   "outputs": [
    {
     "name": "stdout",
     "output_type": "stream",
     "text": [
      "['Honda', 'Yamaha']\n",
      "Suzuki\n",
      "Mein erstes Motorrad war von der Marke Honda\n",
      "['Yamaha']\n"
     ]
    }
   ],
   "source": [
    "motorraeder = [\"Honda\", \"Yamaha\", \"Suzuki\"]\n",
    "\n",
    "popped_motorraeder = motorraeder.pop()\n",
    "print(motorraeder)\n",
    "print(popped_motorraeder)\n",
    "\n",
    "erstes_Montorrad = motorraeder.pop(0)\n",
    "print(f\"Mein erstes Motorrad war von der Marke {erstes_Montorrad}\")\n",
    "print(motorraeder)"
   ]
  },
  {
   "attachments": {},
   "cell_type": "markdown",
   "metadata": {},
   "source": [
    "Es kann vorkommen, dass Sie nicht wissen, an welcher Position das Element steht, das Sie entfernen möchten. Wenn Sie aber seinen Wert kennen, können Sie die Methode <b>remove()</b> verwenden. <br>\n",
    "Die Methode <b>remove()</b> entfernt nur das erste Vorkommen des angegebenen Wertes. Wenn die Möglichkeit besteht, dass dieser Wert mehrmals in der Liste vorkommt, müssen Sie eine Schleife verwenden, um festzustellen, ob alle Vorkommen entfernt wurden."
   ]
  },
  {
   "cell_type": "code",
   "execution_count": 10,
   "metadata": {},
   "outputs": [
    {
     "name": "stdout",
     "output_type": "stream",
     "text": [
      "['Yamaha', 'Suzuki']\n"
     ]
    }
   ],
   "source": [
    "motorraeder = [\"Honda\", \"Yamaha\", \"Suzuki\"]\n",
    "\n",
    "motorraeder.remove(\"Honda\")\n",
    "print(motorraeder)"
   ]
  },
  {
   "attachments": {},
   "cell_type": "markdown",
   "metadata": {},
   "source": [
    "<h3>Listen ordnen</h3>\n",
    "Mit der Python-Methode <b>sort()</b> ist es einfach, Listen alphabetisch zu sortieren. Dabei ändert sich die Reihenfolge der Liste dauerhaft und es ist nicht mehr möglich, zur urspünglichen Sortierung zurückzukehren.<br>\n",
    "Um eine Liste in umgekehrter Reihenfolge zu ordnen, übergeben Sie der Methode <b>sort()</b> das Argument <b>reverse=True</b>."
   ]
  },
  {
   "cell_type": "code",
   "execution_count": 12,
   "metadata": {},
   "outputs": [
    {
     "name": "stdout",
     "output_type": "stream",
     "text": [
      "['Audi', 'BMW', 'Mercedes-Benz', 'Porsche', 'Volkswagen']\n",
      "['Volkswagen', 'Porsche', 'Mercedes-Benz', 'BMW', 'Audi']\n"
     ]
    }
   ],
   "source": [
    "autos = [\"Mercedes-Benz\", \"Audi\", \"BMW\", \"Porsche\", \"Volkswagen\"]\n",
    "\n",
    "autos.sort()\n",
    "print(autos)\n",
    "\n",
    "autos.sort(reverse=True)\n",
    "print(autos)"
   ]
  },
  {
   "attachments": {},
   "cell_type": "markdown",
   "metadata": {},
   "source": [
    "Um eine Liste sortiert auszugeben, aber intern die urspüngliche Reihenfolge beizubehalten, können Sie die Funktion <b>sorted()</b> verwenden."
   ]
  },
  {
   "cell_type": "code",
   "execution_count": 17,
   "metadata": {},
   "outputs": [
    {
     "name": "stdout",
     "output_type": "stream",
     "text": [
      "Die orginale Liste:\n",
      "['Mercedes-Benz', 'Audi', 'BMW', 'Porsche', 'Volkswagen']\n",
      "\n",
      "Die vorübergehend sortierte Liste\n",
      "['Audi', 'BMW', 'Mercedes-Benz', 'Porsche', 'Volkswagen']\n",
      "\n",
      "Die vorübergehend umgekehrt sortierte Liste\n",
      "['Volkswagen', 'Porsche', 'Mercedes-Benz', 'BMW', 'Audi']\n",
      "\n",
      "Und erneut die urspüngliche Liste\n",
      "['Mercedes-Benz', 'Audi', 'BMW', 'Porsche', 'Volkswagen']\n"
     ]
    }
   ],
   "source": [
    "autos = [\"Mercedes-Benz\", \"Audi\", \"BMW\", \"Porsche\", \"Volkswagen\"]\n",
    "\n",
    "print(\"Die orginale Liste:\")\n",
    "print(autos)\n",
    "\n",
    "print(\"\\nDie vorübergehend sortierte Liste\")\n",
    "print(sorted(autos))\n",
    "\n",
    "print(\"\\nDie vorübergehend umgekehrt sortierte Liste\")\n",
    "print(sorted(autos, reverse=True))\n",
    "\n",
    "print(\"\\nUnd erneut die urspüngliche Liste\")\n",
    "print(autos)"
   ]
  },
  {
   "attachments": {},
   "cell_type": "markdown",
   "metadata": {},
   "source": [
    "<h3>Listen in umgekehrter Reihenfolge ausgeben</h3>\n",
    "Mit der Methode <b>reverse()</b> können Sie die ursprüngliche Liste in umgekehrter Reihenfolge ausgeben. Die Reihenfolge der Liste wird dabei zwar dauerhaft geändert, allerdings können Sie jederzeit zur urpsürnglichen Sortierung zurückkehren indem Sie reverse() ein weiteres Mal anwenden."
   ]
  },
  {
   "cell_type": "code",
   "execution_count": 18,
   "metadata": {},
   "outputs": [
    {
     "name": "stdout",
     "output_type": "stream",
     "text": [
      "['Mercedes-Benz', 'Audi', 'BMW', 'Porsche', 'Volkswagen']\n",
      "['Volkswagen', 'Porsche', 'BMW', 'Audi', 'Mercedes-Benz']\n"
     ]
    }
   ],
   "source": [
    "autos = [\"Mercedes-Benz\", \"Audi\", \"BMW\", \"Porsche\", \"Volkswagen\"]\n",
    "print(autos)\n",
    "\n",
    "autos.reverse()\n",
    "print(autos)"
   ]
  },
  {
   "attachments": {},
   "cell_type": "markdown",
   "metadata": {},
   "source": [
    "<h3>Die Länge einer Liste ermitteln</h3>\n",
    "Die Länge einr Liste können Sie ganz schnell mit der Funktion <b>len()</b> herausfinden. Beim Zählen der Elemente in einer Liste beginnt Python bei 1, sodass es bei der Längenbestimmung nicht zu Versatzfehlern kommen kann."
   ]
  },
  {
   "cell_type": "code",
   "execution_count": 19,
   "metadata": {},
   "outputs": [
    {
     "data": {
      "text/plain": [
       "5"
      ]
     },
     "execution_count": 19,
     "metadata": {},
     "output_type": "execute_result"
    }
   ],
   "source": [
    "autos = [\"Mercedes-Benz\", \"Audi\", \"BMW\", \"Porsche\", \"Volkswagen\"]\n",
    "\n",
    "len(autos)"
   ]
  }
 ],
 "metadata": {
  "kernelspec": {
   "display_name": "Python 3",
   "language": "python",
   "name": "python3"
  },
  "language_info": {
   "codemirror_mode": {
    "name": "ipython",
    "version": 3
   },
   "file_extension": ".py",
   "mimetype": "text/x-python",
   "name": "python",
   "nbconvert_exporter": "python",
   "pygments_lexer": "ipython3",
   "version": "3.10.5"
  },
  "orig_nbformat": 4,
  "vscode": {
   "interpreter": {
    "hash": "ac84cb5359a727a9b47307c600b950bddfde70ddc12d348791ec19c547c384cd"
   }
  }
 },
 "nbformat": 4,
 "nbformat_minor": 2
}
