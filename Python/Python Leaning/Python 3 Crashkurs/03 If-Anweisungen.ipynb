{
 "cells": [
  {
   "attachments": {},
   "cell_type": "markdown",
   "metadata": {},
   "source": [
    "<h1>If-Anweisungen</h1>\n",
    "<h2>Bedingungen</h2>\n",
    "Der Kern einer if-Anweisung ist ein Ausdruck, der zu <b>True</b> oder <b>False</b> ausgewertet werden kann und als Bedingung bezeichnet wird. Lautet das Ergebnis True, führt Python den Code aus, der auf die if-Anweisung folgt; ist das Ergebnis False, ignoriert Python diesen Code."
   ]
  },
  {
   "attachments": {},
   "cell_type": "markdown",
   "metadata": {},
   "source": [
    "<h3>Prüfung auf Gleichheit</h3>\n",
    "In Bedingungen wird meistens der aktuelle Wert einer Variablen mit einem gegebenen Wert verglichen. Die einfachste Variante ist dabei die Prüfung, ob diese Werte gleich sind.<br>\n",
    "- Mit einem einfachen Gleichheitszeichen (=) wird der Wert gesetzt<br>\n",
    "- Mit doppelten Gleichheitszeichen (==) wird der Wert auf Gleichheit geprüft<br>\n",
    "\n",
    "Dieser sogenannte Gleichheitsoperator gibt True zurück, wenn die Werte auf seiner rechten und seiner linken Seite gleich sind, andernfalls False."
   ]
  },
  {
   "cell_type": "code",
   "execution_count": 1,
   "metadata": {},
   "outputs": [
    {
     "data": {
      "text/plain": [
       "True"
      ]
     },
     "execution_count": 1,
     "metadata": {},
     "output_type": "execute_result"
    }
   ],
   "source": [
    "auto = \"Mercedes-Benz\"\n",
    "auto == \"Mercedes-Benz\""
   ]
  },
  {
   "attachments": {},
   "cell_type": "markdown",
   "metadata": {},
   "source": [
    "<h3>Groß- und Kleinschreibung bei der Prüfung auf Gleichheit</h3>\n",
    "In Python wird bei der Prüfung auf Gleichheit zwischen Groß- und Kleinschreibung unterschieden. Wollen Sie aber nur eine Prüfung unabhängig von der Groß- und Kleinschreibung durchführen, können Sie den Variablenwert vor dem Vergleich in Kleinbuchstaben umwandeln."
   ]
  },
  {
   "cell_type": "code",
   "execution_count": 4,
   "metadata": {},
   "outputs": [
    {
     "name": "stdout",
     "output_type": "stream",
     "text": [
      "False\n"
     ]
    },
    {
     "data": {
      "text/plain": [
       "True"
      ]
     },
     "execution_count": 4,
     "metadata": {},
     "output_type": "execute_result"
    }
   ],
   "source": [
    "auto = \"Audi\"\n",
    "print(auto == \"audi\")\n",
    "\n",
    "print(auto.lower() == \"audi\")"
   ]
  },
  {
   "attachments": {},
   "cell_type": "markdown",
   "metadata": {},
   "source": [
    "<h3>Prüfung auf Ungleichheit</h3>\n",
    "Wenn Sie überprüfen wollen, ob zwei Werte ungleich sind, verwenden Sie dazu eine Kombination aus Ausrufe- und Gleichheitszeichen (!=)"
   ]
  },
  {
   "cell_type": "code",
   "execution_count": 7,
   "metadata": {},
   "outputs": [
    {
     "name": "stdout",
     "output_type": "stream",
     "text": [
      "Die Frucht ist dieselbe\n"
     ]
    }
   ],
   "source": [
    "frucht = \"Erdbeere\"\n",
    "\n",
    "if frucht != \"Mango\":\n",
    "    print(\"Die Frucht ist dieselbe\")"
   ]
  },
  {
   "attachments": {},
   "cell_type": "markdown",
   "metadata": {},
   "source": [
    "<h3>Numerische Vergleiche</h3>\n",
    "Siehe den folgenden Code... <br>\n",
    "In Bedingungen können Sie auch andere mathematische Vergleihsoperatoren wie <; <=; >; >= verwenden"
   ]
  },
  {
   "cell_type": "code",
   "execution_count": 9,
   "metadata": {},
   "outputs": [
    {
     "name": "stdout",
     "output_type": "stream",
     "text": [
      "Falsche Anwort\n",
      "Ihre Antwort ist zu klein\n"
     ]
    }
   ],
   "source": [
    "antwort = 16\n",
    "\n",
    "# Prüfung auf Gleichheit\n",
    "if antwort == 42:\n",
    "    print(\"Richtige Antwort\")\n",
    "\n",
    "# Prüfung auf Ungleichheit\n",
    "if antwort != 42:\n",
    "    print(\"Falsche Anwort\")\n",
    "\n",
    "if antwort < 42:\n",
    "    print(\"Ihre Antwort ist zu klein\")"
   ]
  },
  {
   "attachments": {},
   "cell_type": "markdown",
   "metadata": {},
   "source": [
    "<h3>Prüfung auf mehrere Bedingungen</h3>\n",
    "Um zu prüfen, ob zwei Bedingungen gleichzeitig erfüllt sind, kombinieren Sie die beiden Bedingungen mit dem Schlüsselwort <b>and</b>. Ergeben beide Prüfungen True, dann wird auch der Gesamtausdruck zu True ausgewertet. Lautet das ERgebnis einer oder beider Prüfungen dagegen False, ist auch der Gesagtausdruck False. <br>\n",
    "\n",
    "Auch mit dem Schlüsselwort <b>or</b> können Sie mehrere Bedingungen gleichzeitig überprüfen. In diesem Fall aber ist die Gesagtbedingung erfüllt, wenn mindestes eine der Teilbedingungen wahr ist.\n"
   ]
  },
  {
   "cell_type": "code",
   "execution_count": 12,
   "metadata": {},
   "outputs": [
    {
     "name": "stdout",
     "output_type": "stream",
     "text": [
      "Alter_0 ist älter als Alter_1 und älter als 20\n",
      "Alter_0 ist volljährig\n"
     ]
    }
   ],
   "source": [
    "alter_0 = 22\n",
    "alter_1 = 18\n",
    "\n",
    "if alter_0 > alter_1 and alter_0 > 20:\n",
    "    print(\"Alter_0 ist älter als Alter_1 und älter als 20\")\n",
    "\n",
    "if alter_0 <= alter_1 or alter_0 > 18:\n",
    "    print(\"Alter_0 ist volljährig\")"
   ]
  },
  {
   "attachments": {},
   "cell_type": "markdown",
   "metadata": {},
   "source": [
    "<h3>Prüfung auf Vorhandensein eines Wertes in einer Liste</h3>\n",
    "Um zu ermitteln, ob ein bestimmter Wert schon in einer Liste steht, verwenden Sie das Schlüsselwort <b>in</b>\n"
   ]
  },
  {
   "cell_type": "code",
   "execution_count": 14,
   "metadata": {},
   "outputs": [
    {
     "name": "stdout",
     "output_type": "stream",
     "text": [
      "Der Belag ist nicht gut\n"
     ]
    }
   ],
   "source": [
    "pizzabelag = [\"Pilze\", \"Ananas\", \"Mais\"]\n",
    "\n",
    "if \"Ananas\" in pizzabelag:\n",
    "    print(\"Der Belag ist nicht gut\")"
   ]
  },
  {
   "attachments": {},
   "cell_type": "markdown",
   "metadata": {},
   "source": [
    "<h3>Prüfung auf Abwesenheit eines Wertes in einer Liste</h3>\n",
    "Manchmal ist es auch wichtig zu wissen, ob ein Wert nicht in einer Liste vorhanden ist. Dafür verwenden Sie das Schlüsselwort <b>not</b>"
   ]
  },
  {
   "cell_type": "code",
   "execution_count": 15,
   "metadata": {},
   "outputs": [
    {
     "name": "stdout",
     "output_type": "stream",
     "text": [
      "Der User ist zurzeit nicht gesperrt\n"
     ]
    }
   ],
   "source": [
    "gesperrteUser = [\"Striker123\", \"TheGoodNoob\", \"Winner5\"]\n",
    "\n",
    "user = \"Wadre\"\n",
    "if user not in gesperrteUser:\n",
    "    print(\"Der User ist zurzeit nicht gesperrt\")"
   ]
  },
  {
   "attachments": {},
   "cell_type": "markdown",
   "metadata": {},
   "source": [
    "<h2>If-Anweisungen</h2>\n",
    "<h3>Einfache If-Anweisung</h3>\n",
    "Die einfachste Art von if-Anweisung besteht aus einer Bedingung und einer Aktion. Sie können jede Bedingung in die erste Zeile schreiben und fast jede Aktion in den darauf folgenden eingerückten Block. Wenn die Bedingung zu true ausgewertet wird, führt Python den Code aus, der auf die if-Anweisung folgt. Ist die Bedingung False, wird dieser Code dagegen igoniert."
   ]
  },
  {
   "cell_type": "code",
   "execution_count": 16,
   "metadata": {},
   "outputs": [
    {
     "name": "stdout",
     "output_type": "stream",
     "text": [
      "Du bist alt genug um zu Wählen\n"
     ]
    }
   ],
   "source": [
    "#   if bedingung:\n",
    "#       mach etwas\n",
    "\n",
    "alter = 19\n",
    "\n",
    "if alter >=18:\n",
    "    print(\"Du bist alt genug um zu Wählen\")"
   ]
  },
  {
   "attachments": {},
   "cell_type": "markdown",
   "metadata": {},
   "source": [
    "<h3>If-Else-Anweisungen</h3>\n",
    "Oft wollen Sie, je nachdem, ob eine Bedingung erfüllt ist oder nicht, unterschiedliche Aktionen ausführen. Das können Sie mit der if-else-Syntax erreichen. Ein if-else.Block ähnelt einer einfachen if-Anweisung, doch in der else-Anweisung können Sie eine Aktion oder eine Folge von Aktionen festlegen, die ausgeführt werden, wenn die Bedinung nicht erfüllt ist.<br>\n",
    "Diese Code funktioniert, da es nur zwei Möglichkeiten gibt: Entweder ist die Person alt genug, um zu wählen, oder nicht. Die if-else-Struktur von Python eignet sich für solche Situationen, in denen immer eine von zwei möglichen Aktionen ausgeführt werden soll."
   ]
  },
  {
   "cell_type": "code",
   "execution_count": 17,
   "metadata": {},
   "outputs": [
    {
     "name": "stdout",
     "output_type": "stream",
     "text": [
      "Du bist alt genug um zu Wählen\n"
     ]
    }
   ],
   "source": [
    "alter = 19\n",
    "\n",
    "if alter >=18:\n",
    "    print(\"Du bist alt genug um zu Wählen\")\n",
    "else:\n",
    "    print(\"Tut mir leid, du bist noch zu jung um zu wählen\")"
   ]
  },
  {
   "attachments": {},
   "cell_type": "markdown",
   "metadata": {},
   "source": [
    "<h3>If-Elif-Else-Kette</h3>\n",
    "Oft sind mehr als nur zwei Situationen möglich. Für solche Fälle gibt es die If-Elif-Else-Syntax. Es prüft nacheinander die einzelnen Bedinungen, bis eine erfüllt ist."
   ]
  },
  {
   "cell_type": "code",
   "execution_count": 20,
   "metadata": {},
   "outputs": [
    {
     "name": "stdout",
     "output_type": "stream",
     "text": [
      "Dein Eintritt kostet: 25 €\n"
     ]
    }
   ],
   "source": [
    "alter = 12\n",
    "\n",
    "if alter < 4:\n",
    "    preis = 0\n",
    "elif alter < 18:\n",
    "    preis = 25\n",
    "else:\n",
    "    preis = 40\n",
    "\n",
    "print(f\"Dein Eintritt kostet: {preis} €\") "
   ]
  },
  {
   "attachments": {},
   "cell_type": "markdown",
   "metadata": {},
   "source": [
    "<h3>Mehrere elif-Blöcke</h3>\n",
    "Sie können so viele elif-Blöcke verwenden, wie Sie wollen."
   ]
  },
  {
   "cell_type": "code",
   "execution_count": 22,
   "metadata": {},
   "outputs": [
    {
     "name": "stdout",
     "output_type": "stream",
     "text": [
      "Dein Eintritt kostet: 30 €\n"
     ]
    }
   ],
   "source": [
    "alter = 68\n",
    "\n",
    "if alter < 4:\n",
    "    preis = 0\n",
    "elif alter < 18:\n",
    "    preis = 25\n",
    "elif alter > 65:\n",
    "    preis = 30\n",
    "else:\n",
    "    preis = 40\n",
    "\n",
    "print(f\"Dein Eintritt kostet: {preis} €\")"
   ]
  }
 ],
 "metadata": {
  "kernelspec": {
   "display_name": "Python 3",
   "language": "python",
   "name": "python3"
  },
  "language_info": {
   "codemirror_mode": {
    "name": "ipython",
    "version": 3
   },
   "file_extension": ".py",
   "mimetype": "text/x-python",
   "name": "python",
   "nbconvert_exporter": "python",
   "pygments_lexer": "ipython3",
   "version": "3.10.5"
  },
  "orig_nbformat": 4,
  "vscode": {
   "interpreter": {
    "hash": "ac84cb5359a727a9b47307c600b950bddfde70ddc12d348791ec19c547c384cd"
   }
  }
 },
 "nbformat": 4,
 "nbformat_minor": 2
}
