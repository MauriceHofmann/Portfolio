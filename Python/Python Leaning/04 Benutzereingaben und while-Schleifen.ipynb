{
 "cells": [
  {
   "attachments": {},
   "cell_type": "markdown",
   "metadata": {},
   "source": [
    "<h1>Benutzereingaben und while-Schleifen</h1>\n",
    "<h3>Die Funktion input()</h3>\n",
    "Die Funktion <b>input()</b> hält das Programm an und wartet darauf, dass der Benutzer Text eingibt. Die Eingabe weist Python dann einer Variablen zu, sodass Sie anschließend damit arbeiten können. <br>\n",
    "Die Funktion <b>input()</b> besitzt nur ein Argument, und zwar eine Eingabeaufforderung, also die Anweisung, die Sie anzeigen lassen wollen, damit die Benutzer wissen, was sie tun sollen"
   ]
  },
  {
   "cell_type": "code",
   "execution_count": null,
   "metadata": {},
   "outputs": [],
   "source": [
    "message = input(\"Erzählen Sie mir etwas und ich merke es mir : \")\n",
    "print(message)"
   ]
  }
 ],
 "metadata": {
  "kernelspec": {
   "display_name": "Python 3",
   "language": "python",
   "name": "python3"
  },
  "language_info": {
   "name": "python",
   "version": "3.10.5 (tags/v3.10.5:f377153, Jun  6 2022, 16:14:13) [MSC v.1929 64 bit (AMD64)]"
  },
  "orig_nbformat": 4,
  "vscode": {
   "interpreter": {
    "hash": "ac84cb5359a727a9b47307c600b950bddfde70ddc12d348791ec19c547c384cd"
   }
  }
 },
 "nbformat": 4,
 "nbformat_minor": 2
}
